{
 "cells": [
  {
   "cell_type": "markdown",
   "id": "ec3c2f6e-084a-4e3f-89ba-639cfb9a559e",
   "metadata": {},
   "source": [
    "# Compare with Lasso"
   ]
  },
  {
   "cell_type": "code",
   "execution_count": 5,
   "id": "3eb44255-a859-4f12-ab90-4ecab979c179",
   "metadata": {},
   "outputs": [],
   "source": [
    "using AllSum\n",
    "using GLMNet\n",
    "using Random\n",
    "using Distributions"
   ]
  },
  {
   "cell_type": "markdown",
   "id": "d3ff1286-7cec-4af6-b48f-65b9b6e4aa4d",
   "metadata": {},
   "source": [
    "## Simulate data"
   ]
  },
  {
   "cell_type": "code",
   "execution_count": 7,
   "id": "852abb45-c400-47f5-9e48-0c916063d4e8",
   "metadata": {},
   "outputs": [
    {
     "data": {
      "text/plain": [
       "1000-element Vector{Float64}:\n",
       " -1.0273672528292863\n",
       "  3.3323541986760743\n",
       " -2.786802968519569\n",
       "  1.4248014409085357\n",
       "  0.5398436521433878\n",
       "  2.2299944511676006\n",
       "  2.6967957554703292\n",
       "  1.207743885778079\n",
       "  1.9810217798055199\n",
       "  7.085968564651956\n",
       " -3.920378525335589\n",
       "  2.224201077483377\n",
       "  8.028871952240321\n",
       "  ⋮\n",
       "  0.6754744571683196\n",
       "  2.3757434423188846\n",
       " -2.5014873550490995\n",
       "  2.081488099929415\n",
       " -3.0783891261836014\n",
       "  1.3237010367920414\n",
       " -4.476550246429179\n",
       "  1.4422214707576881\n",
       " -0.9750589181259312\n",
       "  0.45778009997367314\n",
       "  2.2263630631308535\n",
       "  0.9451194719145507"
      ]
     },
     "execution_count": 7,
     "metadata": {},
     "output_type": "execute_result"
    }
   ],
   "source": [
    "n = 1000\n",
    "p = 1000\n",
    "k = 10\n",
    "\n",
    "# simulate design matrix and beta\n",
    "X = randn(n, p)\n",
    "beta = zeros(p)\n",
    "beta[1:k] .= rand(Normal(0, 0.5), k)\n",
    "shuffle!(beta)\n",
    "\n",
    "# simulate response and compute Z-scores\n",
    "y = X * beta + 3randn(n)\n",
    "z = X' * y ./ sqrt(n)"
   ]
  },
  {
   "cell_type": "markdown",
   "id": "1021f28f-6f32-4f8b-90e4-f28b3241e956",
   "metadata": {},
   "source": [
    "## Standard Lasso regression"
   ]
  },
  {
   "cell_type": "code",
   "execution_count": 11,
   "id": "e4d46ecd-2abc-437f-9bd2-a36bc2931da1",
   "metadata": {},
   "outputs": [
    {
     "name": "stdout",
     "output_type": "stream",
     "text": [
      "nz = 41\n"
     ]
    },
    {
     "data": {
      "text/plain": [
       "10×2 Matrix{Float64}:\n",
       "  0.209104    0.0\n",
       " -0.0949044   0.0\n",
       "  0.490055    0.205092\n",
       "  0.149518    0.0\n",
       "  0.55659     0.326932\n",
       " -0.874318   -0.569371\n",
       " -0.124516    0.0\n",
       "  0.357384    0.0183492\n",
       "  0.555637    0.338902\n",
       " -1.19906    -0.980606"
      ]
     },
     "execution_count": 11,
     "metadata": {},
     "output_type": "execute_result"
    }
   ],
   "source": [
    "# cv = glmnetcv(X, y)\n",
    "beta_hat_lasso = coef(cv)\n",
    "idx = findall(!iszero, beta)\n",
    "nz = count(!iszero, beta_hat_lasso)\n",
    "@show nz\n",
    "[beta[idx] beta_hat_lasso[idx]]"
   ]
  },
  {
   "cell_type": "markdown",
   "id": "13cb024c-b70e-44f7-83d3-d207516908c9",
   "metadata": {},
   "source": [
    "## AllSum algorithm"
   ]
  },
  {
   "cell_type": "code",
   "execution_count": 33,
   "id": "fa83a1c9-6148-4a8b-a5b9-d00f191f89dd",
   "metadata": {},
   "outputs": [
    {
     "name": "stdout",
     "output_type": "stream",
     "text": [
      "nz = 3\n"
     ]
    },
    {
     "data": {
      "text/plain": [
       "10×2 Matrix{Float64}:\n",
       "  0.209104    0.0\n",
       " -0.0949044   0.0\n",
       "  0.490055    0.0\n",
       "  0.149518    0.0\n",
       "  0.55659     0.0\n",
       " -0.874318   -0.608614\n",
       " -0.124516    0.0\n",
       "  0.357384    0.0\n",
       "  0.555637    0.0\n",
       " -1.19906    -0.705672"
      ]
     },
     "execution_count": 33,
     "metadata": {},
     "output_type": "execute_result"
    }
   ],
   "source": [
    "lambda0 = 0.1\n",
    "lambda1 = 0.2\n",
    "lambda2 = 0.2\n",
    "R = X' * X / n\n",
    "sample_sizes = [Float64(n) for i in 1:p]\n",
    "beta_hat = solve(z, R, lambda0, lambda1, lambda2, sample_sizes)\n",
    "\n",
    "nz = count(!iszero, beta_hat)\n",
    "@show nz\n",
    "[beta[idx] beta_hat[idx]]"
   ]
  },
  {
   "cell_type": "code",
   "execution_count": null,
   "id": "9deb7551-9b1f-4ab9-8796-6767f1601142",
   "metadata": {},
   "outputs": [],
   "source": []
  }
 ],
 "metadata": {
  "kernelspec": {
   "display_name": "Julia 1.11.1",
   "language": "julia",
   "name": "julia-1.11"
  },
  "language_info": {
   "file_extension": ".jl",
   "mimetype": "application/julia",
   "name": "julia",
   "version": "1.11.1"
  }
 },
 "nbformat": 4,
 "nbformat_minor": 5
}
